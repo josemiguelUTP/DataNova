{
 "cells": [
  {
   "cell_type": "markdown",
   "metadata": {},
   "source": [
    "# Taller 1"
   ]
  },
  {
   "cell_type": "markdown",
   "metadata": {},
   "source": [
    "## Ejercicio 0"
   ]
  },
  {
   "cell_type": "markdown",
   "metadata": {},
   "source": [
    "### 0.1"
   ]
  },
  {
   "cell_type": "code",
   "execution_count": 2,
   "metadata": {},
   "outputs": [
    {
     "name": "stdout",
     "output_type": "stream",
     "text": [
      "789\n",
      "6\n",
      "66.4\n"
     ]
    }
   ],
   "source": [
    "print(1675-886)\n",
    "X=6\n",
    "print(X)\n",
    "print(65.4+7-6)"
   ]
  },
  {
   "cell_type": "markdown",
   "metadata": {},
   "source": [
    "### 0.2"
   ]
  },
  {
   "cell_type": "code",
   "execution_count": 4,
   "metadata": {},
   "outputs": [
    {
     "name": "stdout",
     "output_type": "stream",
     "text": [
      "9\n",
      "25\n"
     ]
    }
   ],
   "source": [
    "a=3\n",
    "b=4\n",
    "c=5\n",
    "\n",
    "print(a**2)\n",
    "print(a**2 + b**2)"
   ]
  },
  {
   "cell_type": "markdown",
   "metadata": {},
   "source": [
    "## Datos de la compañía sobre las estimaciones de éxito"
   ]
  },
  {
   "cell_type": "code",
   "execution_count": 159,
   "metadata": {},
   "outputs": [],
   "source": [
    "estimados_de_exito = {\n",
    "'Australia': [0.6, 0.33, 0.11, 0.14],\n",
    "'France': [0.66, 0.78, 0.98, 0.2],\n",
    "'Italy': [0.6],\n",
    "'Brazil': [0.22, 0.22, 0.43],\n",
    "'USA': [0.2, 0.5, 0.3],\n",
    "'England': [0.45],\n",
    "'Canada': [0.25, 0.3],\n",
    "'Argentina': [0.22],\n",
    "'Greece': [0.45, 0.66, 0.75, 0.99, 0.15, 0.66],\n",
    "'Morocco': [0.29],\n",
    "'Tunisia': [0.68, 0.56],\n",
    "'Egypt': [0.99],\n",
    "'Jamaica': [0.61, 0.65, 0.71],\n",
    "'Switzerland': [0.73, 0.86, 0.84, 0.51, 0.99],\n",
    "'Germany': [0.45, 0.49, 0.36]\n",
    "}\n",
    "Traduccion={\n",
    "    \"France\":\"Francia\",\n",
    "    \"Greece\":\"Grecia\",\n",
    "    \"Morocco\":\"Marruecos\",\n",
    "    \"Switzerland\":\"Suiza\"\n",
    "}"
   ]
  },
  {
   "cell_type": "markdown",
   "metadata": {},
   "source": [
    "### Ejercicio 1"
   ]
  },
  {
   "cell_type": "code",
   "execution_count": 55,
   "metadata": {},
   "outputs": [
    {
     "name": "stdout",
     "output_type": "stream",
     "text": [
      "Grecia\n",
      "  6\n",
      "Francia\n",
      "  4\n",
      "Marruecos\n",
      "  1\n"
     ]
    }
   ],
   "source": [
    "Ciudades={\"France\",\"Greece\",\"Morocco\"}\n",
    "for city in Ciudades:\n",
    "    print(Traduccion[city] if city in Traduccion else city)\n",
    "    if city in estimados_de_exito:\n",
    "        print(\" \",len(estimados_de_exito[city]))\n",
    "    else:\n",
    "        print(\" Ciudad no encontrada\")"
   ]
  },
  {
   "cell_type": "markdown",
   "metadata": {},
   "source": [
    "### Ejercicio 2"
   ]
  },
  {
   "cell_type": "markdown",
   "metadata": {},
   "source": [
    "b) Diccionario, ya que se podrían almacenar por cada país un diccionario anidado que almacene a su vez las estimaciones de cada región."
   ]
  },
  {
   "cell_type": "markdown",
   "metadata": {},
   "source": [
    "### Ejercicio 3"
   ]
  },
  {
   "cell_type": "code",
   "execution_count": 51,
   "metadata": {},
   "outputs": [
    {
     "name": "stdout",
     "output_type": "stream",
     "text": [
      "--Comienza una iteración del bucle--\n",
      "Valores para el país:  Australia\n",
      "Accediendo a los valores del diccionario\n",
      "valores=  [0.6, 0.33, 0.11, 0.14]\n",
      "Promedio de la lista de estimados_de_exito[ Australia ]: \n",
      "País:  Australia , Promedio:  0.3\n",
      "--Pasa a la siguiente iteración del bucle--\n",
      "\n",
      "--Comienza una iteración del bucle--\n",
      "Valores para el país:  France\n",
      "Accediendo a los valores del diccionario\n",
      "valores=  [0.66, 0.78, 0.98, 0.2]\n",
      "Promedio de la lista de estimados_de_exito[ France ]: \n",
      "País:  France , Promedio:  0.66\n",
      "--Pasa a la siguiente iteración del bucle--\n",
      "\n",
      "--Comienza una iteración del bucle--\n",
      "Valores para el país:  Italy\n",
      "Accediendo a los valores del diccionario\n",
      "valores=  [0.6]\n",
      "Promedio de la lista de estimados_de_exito[ Italy ]: \n",
      "País:  Italy , Promedio:  0.6\n",
      "--Pasa a la siguiente iteración del bucle--\n",
      "\n",
      "--Comienza una iteración del bucle--\n",
      "Valores para el país:  Brazil\n",
      "Accediendo a los valores del diccionario\n",
      "valores=  [0.22, 0.22, 0.43]\n",
      "Promedio de la lista de estimados_de_exito[ Brazil ]: \n",
      "País:  Brazil , Promedio:  0.29\n",
      "--Pasa a la siguiente iteración del bucle--\n",
      "\n",
      "--Comienza una iteración del bucle--\n",
      "Valores para el país:  USA\n",
      "Accediendo a los valores del diccionario\n",
      "valores=  [0.2, 0.5, 0.3]\n",
      "Promedio de la lista de estimados_de_exito[ USA ]: \n",
      "País:  USA , Promedio:  0.33\n",
      "--Pasa a la siguiente iteración del bucle--\n",
      "\n",
      "--Comienza una iteración del bucle--\n",
      "Valores para el país:  England\n",
      "Accediendo a los valores del diccionario\n",
      "valores=  [0.45]\n",
      "Promedio de la lista de estimados_de_exito[ England ]: \n",
      "País:  England , Promedio:  0.45\n",
      "--Pasa a la siguiente iteración del bucle--\n",
      "\n",
      "--Comienza una iteración del bucle--\n",
      "Valores para el país:  Canada\n",
      "Accediendo a los valores del diccionario\n",
      "valores=  [0.25, 0.3]\n",
      "Promedio de la lista de estimados_de_exito[ Canada ]: \n",
      "País:  Canada , Promedio:  0.28\n",
      "--Pasa a la siguiente iteración del bucle--\n",
      "\n",
      "--Comienza una iteración del bucle--\n",
      "Valores para el país:  Argentina\n",
      "Accediendo a los valores del diccionario\n",
      "valores=  [0.22]\n",
      "Promedio de la lista de estimados_de_exito[ Argentina ]: \n",
      "País:  Argentina , Promedio:  0.22\n",
      "--Pasa a la siguiente iteración del bucle--\n",
      "\n",
      "--Comienza una iteración del bucle--\n",
      "Valores para el país:  Greece\n",
      "Accediendo a los valores del diccionario\n",
      "valores=  [0.45, 0.66, 0.75, 0.99, 0.15, 0.66]\n",
      "Promedio de la lista de estimados_de_exito[ Greece ]: \n",
      "País:  Greece , Promedio:  0.61\n",
      "--Pasa a la siguiente iteración del bucle--\n",
      "\n",
      "--Comienza una iteración del bucle--\n",
      "Valores para el país:  Morocco\n",
      "Accediendo a los valores del diccionario\n",
      "valores=  [0.29]\n",
      "Promedio de la lista de estimados_de_exito[ Morocco ]: \n",
      "País:  Morocco , Promedio:  0.29\n",
      "--Pasa a la siguiente iteración del bucle--\n",
      "\n",
      "--Comienza una iteración del bucle--\n",
      "Valores para el país:  Tunisia\n",
      "Accediendo a los valores del diccionario\n",
      "valores=  [0.68, 0.56]\n",
      "Promedio de la lista de estimados_de_exito[ Tunisia ]: \n",
      "País:  Tunisia , Promedio:  0.62\n",
      "--Pasa a la siguiente iteración del bucle--\n",
      "\n",
      "--Comienza una iteración del bucle--\n",
      "Valores para el país:  Egypt\n",
      "Accediendo a los valores del diccionario\n",
      "valores=  [0.99]\n",
      "Promedio de la lista de estimados_de_exito[ Egypt ]: \n",
      "País:  Egypt , Promedio:  0.99\n",
      "--Pasa a la siguiente iteración del bucle--\n",
      "\n",
      "--Comienza una iteración del bucle--\n",
      "Valores para el país:  Jamaica\n",
      "Accediendo a los valores del diccionario\n",
      "valores=  [0.61, 0.65, 0.71]\n",
      "Promedio de la lista de estimados_de_exito[ Jamaica ]: \n",
      "País:  Jamaica , Promedio:  0.66\n",
      "--Pasa a la siguiente iteración del bucle--\n",
      "\n",
      "--Comienza una iteración del bucle--\n",
      "Valores para el país:  Switzerland\n",
      "Accediendo a los valores del diccionario\n",
      "valores=  [0.73, 0.86, 0.84, 0.51, 0.99]\n",
      "Promedio de la lista de estimados_de_exito[ Switzerland ]: \n",
      "País:  Switzerland , Promedio:  0.79\n",
      "--Pasa a la siguiente iteración del bucle--\n",
      "\n",
      "--Comienza una iteración del bucle--\n",
      "Valores para el país:  Germany\n",
      "Accediendo a los valores del diccionario\n",
      "valores=  [0.45, 0.49, 0.36]\n",
      "Promedio de la lista de estimados_de_exito[ Germany ]: \n",
      "País:  Germany , Promedio:  0.43\n",
      "--Pasa a la siguiente iteración del bucle--\n",
      "\n"
     ]
    }
   ],
   "source": [
    "for pais in estimados_de_exito:\n",
    "    print(\"--Comienza una iteración del bucle--\")\n",
    "    print(\"Valores para el país: \",pais)\n",
    "    print(\"Accediendo a los valores del diccionario\")\n",
    "    valores=estimados_de_exito[pais]\n",
    "    print(\"valores= \",valores)\n",
    "    promedio=round(sum(valores)/len(valores),2)\n",
    "    print(\"Promedio de la lista de estimados_de_exito[\",pais,\"]: \")\n",
    "    print(\"País: \",pais,\", Promedio: \",promedio)\n",
    "    print(\"--Pasa a la siguiente iteración del bucle--\")\n",
    "    print()"
   ]
  },
  {
   "cell_type": "markdown",
   "metadata": {},
   "source": [
    "### Ejercicio 4"
   ]
  },
  {
   "cell_type": "code",
   "execution_count": 61,
   "metadata": {},
   "outputs": [
    {
     "name": "stdout",
     "output_type": "stream",
     "text": [
      "-- Australia --\n",
      "Maximo:  0.6\n",
      "Minimo:  0.11\n",
      "\n",
      "-- Francia --\n",
      "Maximo:  0.98\n",
      "Minimo:  0.2\n",
      "\n",
      "-- Italy --\n",
      "Maximo:  0.6\n",
      "Minimo:  0.6\n",
      "\n",
      "-- Brazil --\n",
      "Maximo:  0.43\n",
      "Minimo:  0.22\n",
      "\n",
      "-- USA --\n",
      "Maximo:  0.5\n",
      "Minimo:  0.2\n",
      "\n",
      "-- England --\n",
      "Maximo:  0.45\n",
      "Minimo:  0.45\n",
      "\n",
      "-- Canada --\n",
      "Maximo:  0.3\n",
      "Minimo:  0.25\n",
      "\n",
      "-- Argentina --\n",
      "Maximo:  0.22\n",
      "Minimo:  0.22\n",
      "\n",
      "-- Grecia --\n",
      "Maximo:  0.99\n",
      "Minimo:  0.15\n",
      "\n",
      "-- Marruecos --\n",
      "Maximo:  0.29\n",
      "Minimo:  0.29\n",
      "\n",
      "-- Tunisia --\n",
      "Maximo:  0.68\n",
      "Minimo:  0.56\n",
      "\n",
      "-- Egypt --\n",
      "Maximo:  0.99\n",
      "Minimo:  0.99\n",
      "\n",
      "-- Jamaica --\n",
      "Maximo:  0.71\n",
      "Minimo:  0.61\n",
      "\n",
      "-- Switzerland --\n",
      "Maximo:  0.99\n",
      "Minimo:  0.51\n",
      "\n",
      "-- Germany --\n",
      "Maximo:  0.49\n",
      "Minimo:  0.36\n",
      "\n"
     ]
    }
   ],
   "source": [
    "for pais in estimados_de_exito:\n",
    "    valores=estimados_de_exito[pais]\n",
    "    minimo=min(valores)\n",
    "    maximo=max(valores)\n",
    "    nombrePais=Traduccion[pais] if pais in Traduccion else pais\n",
    "    print(\"--\",nombrePais,\"--\")\n",
    "    print(\"Maximo: \",maximo)\n",
    "    print(\"Minimo: \",minimo)\n",
    "    print()"
   ]
  },
  {
   "cell_type": "markdown",
   "metadata": {},
   "source": [
    "### Ejercicio 5"
   ]
  },
  {
   "cell_type": "code",
   "execution_count": 71,
   "metadata": {},
   "outputs": [
    {
     "name": "stdout",
     "output_type": "stream",
     "text": [
      "La ciudad con mayor rango es  Grecia  con un rango de:  0.84\n"
     ]
    }
   ],
   "source": [
    "mayorRango=None\n",
    "ciudadConMayorRango=None\n",
    "for pais in estimados_de_exito:\n",
    "    valores=estimados_de_exito[pais]\n",
    "    rango=max(valores)-min(valores)\n",
    "    if mayorRango is None:\n",
    "        mayorRango=rango\n",
    "        ciudadConMayorRango=pais\n",
    "    elif rango>mayorRango:\n",
    "        mayorRango=rango\n",
    "        ciudadConMayorRango=pais\n",
    "nombrePais=Traduccion[ciudadConMayorRango] if ciudadConMayorRango in Traduccion else ciudadConMayorRango\n",
    "print(\"La ciudad con mayor rango es \",nombrePais,\" con un rango de: \",mayorRango)"
   ]
  },
  {
   "cell_type": "markdown",
   "metadata": {},
   "source": [
    "### Ejercicio 6"
   ]
  },
  {
   "cell_type": "code",
   "execution_count": 165,
   "metadata": {},
   "outputs": [
    {
     "data": {
      "text/plain": [
       "[['Australia', 0.5005999999999999],\n",
       " ['France', 2.0444],\n",
       " ['Italy', 0.36],\n",
       " ['Brazil', 0.28169999999999995],\n",
       " ['USA', 0.38],\n",
       " ['England', 0.2025],\n",
       " ['Canada', 0.1525],\n",
       " ['Argentina', 0.0484],\n",
       " ['Greece', 2.6388],\n",
       " ['Morocco', 0.0841],\n",
       " ['Tunisia', 0.7760000000000001],\n",
       " ['Egypt', 0.9801],\n",
       " ['Jamaica', 1.2987],\n",
       " ['Switzerland', 3.2183],\n",
       " ['Germany', 0.5722]]"
      ]
     },
     "execution_count": 165,
     "metadata": {},
     "output_type": "execute_result"
    }
   ],
   "source": [
    "lista_suma_cuadrados=[[pais,sum([x**2 for x in estimados_de_exito[pais]])] for pais in estimados_de_exito]\n",
    "\n",
    "lista_suma_cuadrados"
   ]
  },
  {
   "cell_type": "markdown",
   "metadata": {},
   "source": [
    "### Ejercicio 7"
   ]
  },
  {
   "cell_type": "code",
   "execution_count": 166,
   "metadata": {},
   "outputs": [
    {
     "data": {
      "text/plain": [
       "[['Australia', [0.3, 0.03, -0.19, -0.16]],\n",
       " ['France', [0.01, 0.12, 0.32, -0.46]],\n",
       " ['Italy', [0.0]],\n",
       " ['Brazil', [-0.07, -0.07, 0.14]],\n",
       " ['USA', [-0.13, 0.17, -0.03]],\n",
       " ['England', [0.0]],\n",
       " ['Canada', [-0.03, 0.02]],\n",
       " ['Argentina', [0.0]],\n",
       " ['Greece', [-0.16, 0.05, 0.14, 0.38, -0.46, 0.05]],\n",
       " ['Morocco', [0.0]],\n",
       " ['Tunisia', [0.06, -0.06]],\n",
       " ['Egypt', [0.0]],\n",
       " ['Jamaica', [-0.05, -0.01, 0.05]],\n",
       " ['Switzerland', [-0.06, 0.07, 0.05, -0.28, 0.2]],\n",
       " ['Germany', [0.02, 0.06, -0.07]]]"
      ]
     },
     "execution_count": 166,
     "metadata": {},
     "output_type": "execute_result"
    }
   ],
   "source": [
    "promedio={pais:sum(estimados_de_exito[pais])/len(estimados_de_exito[pais]) for pais in estimados_de_exito}\n",
    "lista_media_removida=[[pais,[round(x-promedio[pais],2) for x in estimados_de_exito[pais]]] for pais in estimados_de_exito]\n",
    "lista_media_removida"
   ]
  },
  {
   "cell_type": "markdown",
   "metadata": {},
   "source": [
    "### Ejercicio 8"
   ]
  },
  {
   "cell_type": "code",
   "execution_count": 130,
   "metadata": {},
   "outputs": [
    {
     "name": "stdout",
     "output_type": "stream",
     "text": [
      "País: Australia, Promedio estimados de éxito: 0.30\n",
      "\n",
      "País: France, Promedio estimados de éxito: 0.66\n",
      "\n",
      "País: Italy no cumple con la política de la compañía\n",
      "\n",
      "País: Brazil, Promedio estimados de éxito: 0.29\n",
      "\n",
      "País: USA, Promedio estimados de éxito: 0.33\n",
      "\n",
      "País: England no cumple con la política de la compañía\n",
      "\n",
      "País: Canada no cumple con la política de la compañía\n",
      "\n",
      "País: Argentina no cumple con la política de la compañía\n",
      "\n",
      "País: Greece, Promedio estimados de éxito: 0.61\n",
      "\n",
      "País: Morocco no cumple con la política de la compañía\n",
      "\n",
      "País: Tunisia no cumple con la política de la compañía\n",
      "\n",
      "País: Egypt no cumple con la política de la compañía\n",
      "\n",
      "País: Jamaica, Promedio estimados de éxito: 0.66\n",
      "\n",
      "País: Switzerland, Promedio estimados de éxito: 0.79\n",
      "\n",
      "País: Germany, Promedio estimados de éxito: 0.43\n",
      "\n"
     ]
    }
   ],
   "source": [
    "promedios_filtrados={}\n",
    "for pais in estimados_de_exito:\n",
    "    estimaciones=estimados_de_exito[pais]\n",
    "    if len(estimaciones)>=3:\n",
    "        promedio=sum(estimaciones)/len(estimaciones)\n",
    "        promedios_filtrados[pais]=promedio\n",
    "        print(\"País: {0:s}, Promedio estimados de éxito: {1:.2f}\".format(pais,promedio))\n",
    "    else:\n",
    "        print(\"País: {0:s} no cumple con la política de la compañía\".format(pais))\n",
    "    print()"
   ]
  },
  {
   "cell_type": "markdown",
   "metadata": {},
   "source": [
    "### Ejercicio 9"
   ]
  },
  {
   "cell_type": "code",
   "execution_count": 135,
   "metadata": {},
   "outputs": [
    {
     "name": "stdout",
     "output_type": "stream",
     "text": [
      "France debe ser marcado\n",
      "Greece debe ser marcado\n"
     ]
    }
   ],
   "source": [
    "for pais in estimados_de_exito:\n",
    "    rango=max(estimados_de_exito[pais])-min(estimados_de_exito[pais])\n",
    "    if rango > 0.6:\n",
    "        print(pais,\"debe ser marcado\")"
   ]
  },
  {
   "cell_type": "markdown",
   "metadata": {},
   "source": [
    "### Ejercicio 10"
   ]
  },
  {
   "cell_type": "markdown",
   "metadata": {},
   "source": [
    "d) Primero se debería examinar si se pueden obtener más datos para aquellos países con una sola estimación, si no se pueden obtener mas datos para estos países, se podrían agrupar los países con una sola estimación en regiones mas grandes, esto bajaría la resolución pero aumentaría la confianza en la decisión."
   ]
  },
  {
   "cell_type": "markdown",
   "metadata": {},
   "source": [
    "## Uniendo todo"
   ]
  },
  {
   "cell_type": "markdown",
   "metadata": {},
   "source": [
    "### Ejercicio 11"
   ]
  },
  {
   "cell_type": "code",
   "execution_count": 138,
   "metadata": {},
   "outputs": [
    {
     "name": "stdout",
     "output_type": "stream",
     "text": [
      "País:  Australia , Mín:0.1, Promedio=0.295, Máximo: 0.60, NúmEst: 4, Cumple con la política: True\n",
      "País:  Francia , Mín:0.2, Promedio=0.655, Máximo: 0.98, NúmEst: 4, Cumple con la política: True\n",
      "País:  Italy , Mín:0.6, Promedio=0.600, Máximo: 0.60, NúmEst: 1, Cumple con la política: False\n",
      "País:  Brazil , Mín:0.2, Promedio=0.290, Máximo: 0.43, NúmEst: 3, Cumple con la política: True\n",
      "País:  USA , Mín:0.2, Promedio=0.333, Máximo: 0.50, NúmEst: 3, Cumple con la política: True\n",
      "País:  England , Mín:0.5, Promedio=0.450, Máximo: 0.45, NúmEst: 1, Cumple con la política: False\n",
      "País:  Canada , Mín:0.2, Promedio=0.275, Máximo: 0.30, NúmEst: 2, Cumple con la política: False\n",
      "País:  Argentina , Mín:0.2, Promedio=0.220, Máximo: 0.22, NúmEst: 1, Cumple con la política: False\n",
      "País:  Grecia , Mín:0.1, Promedio=0.610, Máximo: 0.99, NúmEst: 6, Cumple con la política: True\n",
      "País:  Marruecos , Mín:0.3, Promedio=0.290, Máximo: 0.29, NúmEst: 1, Cumple con la política: False\n",
      "País:  Tunisia , Mín:0.6, Promedio=0.620, Máximo: 0.68, NúmEst: 2, Cumple con la política: False\n",
      "País:  Egypt , Mín:1.0, Promedio=0.990, Máximo: 0.99, NúmEst: 1, Cumple con la política: False\n",
      "País:  Jamaica , Mín:0.6, Promedio=0.657, Máximo: 0.71, NúmEst: 3, Cumple con la política: True\n",
      "País:  Switzerland , Mín:0.5, Promedio=0.786, Máximo: 0.99, NúmEst: 5, Cumple con la política: True\n",
      "País:  Germany , Mín:0.4, Promedio=0.433, Máximo: 0.49, NúmEst: 3, Cumple con la política: True\n"
     ]
    }
   ],
   "source": [
    "for pais in estimados_de_exito:\n",
    "    valores=estimados_de_exito[pais]\n",
    "    minimo=min(valores)\n",
    "    maximo=max(valores)\n",
    "    cant=len(valores)\n",
    "    promedio=sum(valores)/cant\n",
    "    cumple=cant>=3\n",
    "    print(\"País: \",Traduccion[pais] if pais in Traduccion else pais,\", Mín:{0:.1f}, Promedio={1:.3f}, Máximo: {2:.2f}, NúmEst: {3:1}, Cumple con la política: {4}\".format(minimo,promedio,maximo,cant,cumple))\n",
    "    "
   ]
  },
  {
   "cell_type": "markdown",
   "metadata": {},
   "source": [
    "### Ejercicio 12"
   ]
  },
  {
   "cell_type": "code",
   "execution_count": 160,
   "metadata": {},
   "outputs": [
    {
     "name": "stdout",
     "output_type": "stream",
     "text": [
      "País:  Suiza , Mín:0.5, Promedio=0.786, Máximo: 0.99, NúmEst: 5, Cumple con la política: True\n"
     ]
    }
   ],
   "source": [
    "datos={}\n",
    "maxPromedio=None\n",
    "paisCumple=None\n",
    "for pais in estimados_de_exito:\n",
    "    valores=estimados_de_exito[pais]\n",
    "    cant=len(valores)\n",
    "    cumple=cant>=3\n",
    "    promedio=sum(valores)/cant\n",
    "    if cumple and ((maxPromedio is None) or (promedio>maxPromedio)):\n",
    "        maxPromedio=promedio\n",
    "        paisCumple=pais\n",
    "            \n",
    "if paisCumple is None:\n",
    "    print(\"Ningún país cumple con la política de al menos 3 estimaciones\")\n",
    "else:\n",
    "    valores=estimados_de_exito[paisCumple]\n",
    "    minimo=min(valores)\n",
    "    maximo=max(valores)\n",
    "    cant=len(valores)\n",
    "    promedio=sum(valores)/cant\n",
    "    cumple=True\n",
    "    print(\"País: \",Traduccion[paisCumple] if paisCumple in Traduccion else paisCumple,\", Mín:{0:.1f}, Promedio={1:.3f}, Máximo: {2:.2f}, NúmEst: {3:1}, Cumple con la política: {4}\".format(minimo,promedio,maximo,cant,cumple))    "
   ]
  },
  {
   "cell_type": "markdown",
   "metadata": {},
   "source": [
    "### Ejercicio 13"
   ]
  },
  {
   "cell_type": "code",
   "execution_count": 167,
   "metadata": {},
   "outputs": [
    {
     "name": "stdout",
     "output_type": "stream",
     "text": [
      "País:  Jamaica , Mín:0.6, Promedio=0.657, Máximo: 0.71, NúmEst: 3, Cumple con la política: True\n"
     ]
    }
   ],
   "source": [
    "datos={}\n",
    "maxMinimo=None\n",
    "paisCumple=None\n",
    "for pais in estimados_de_exito:\n",
    "    valores=estimados_de_exito[pais]\n",
    "    cant=len(valores)\n",
    "    cumple=cant>=3\n",
    "    minimo=min(valores)\n",
    "    if cumple and ((maxMinimo is None) or (minimo>maxMinimo)):\n",
    "        maxMinimo=minimo\n",
    "        paisCumple=pais\n",
    "            \n",
    "if paisCumple is None:\n",
    "    print(\"Ningún país cumple con la política de al menos 3 estimaciones\")\n",
    "else:\n",
    "    valores=estimados_de_exito[paisCumple]\n",
    "    minimo=min(valores)\n",
    "    maximo=max(valores)\n",
    "    cant=len(valores)\n",
    "    promedio=sum(valores)/cant\n",
    "    cumple=True\n",
    "    print(\"País: \",Traduccion[paisCumple] if paisCumple in Traduccion else paisCumple,\", Mín:{0:.1f}, Promedio={1:.3f}, Máximo: {2:.2f}, NúmEst: {3:1}, Cumple con la política: {4}\".format(minimo,promedio,maximo,cant,cumple))"
   ]
  }
 ],
 "metadata": {
  "kernelspec": {
   "display_name": "Python 3",
   "language": "python",
   "name": "python3"
  },
  "language_info": {
   "codemirror_mode": {
    "name": "ipython",
    "version": 3
   },
   "file_extension": ".py",
   "mimetype": "text/x-python",
   "name": "python",
   "nbconvert_exporter": "python",
   "pygments_lexer": "ipython3",
   "version": "3.7.4"
  }
 },
 "nbformat": 4,
 "nbformat_minor": 2
}
